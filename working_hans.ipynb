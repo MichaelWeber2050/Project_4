{
 "cells": [
  {
   "cell_type": "code",
   "execution_count": 1,
   "metadata": {},
   "outputs": [
    {
     "name": "stderr",
     "output_type": "stream",
     "text": [
      "/Users/michaelweber/anaconda3/lib/python3.6/site-packages/h5py/__init__.py:36: FutureWarning: Conversion of the second argument of issubdtype from `float` to `np.floating` is deprecated. In future, it will be treated as `np.float64 == np.dtype(float).type`.\n",
      "  from ._conv import register_converters as _register_converters\n",
      "Using TensorFlow backend.\n"
     ]
    }
   ],
   "source": [
    "import numpy as np\n",
    "import pandas as pd\n",
    "from keras.models import Sequential\n",
    "from keras.layers import Dense\n",
    "from keras.layers import Dropout\n",
    "from keras.layers import LSTM\n",
    "from keras.utils import np_utils\n",
    "from keras.callbacks import ModelCheckpoint\n",
    "import sys\n",
    "\n",
    "import re\n",
    "import string\n",
    "\n",
    "import keras.models\n",
    "import pickle"
   ]
  },
  {
   "cell_type": "code",
   "execution_count": 2,
   "metadata": {},
   "outputs": [
    {
     "ename": "FileNotFoundError",
     "evalue": "[Errno 2] No such file or directory: 'Hans_3'",
     "output_type": "error",
     "traceback": [
      "\u001b[0;31m---------------------------------------------------------------------------\u001b[0m",
      "\u001b[0;31mFileNotFoundError\u001b[0m                         Traceback (most recent call last)",
      "\u001b[0;32m<ipython-input-2-216721e290b3>\u001b[0m in \u001b[0;36m<module>\u001b[0;34m()\u001b[0m\n\u001b[0;32m----> 1\u001b[0;31m \u001b[0mhans\u001b[0m\u001b[0;34m=\u001b[0m\u001b[0;34m(\u001b[0m\u001b[0mopen\u001b[0m\u001b[0;34m(\u001b[0m\u001b[0;34m'Hans_3'\u001b[0m\u001b[0;34m)\u001b[0m\u001b[0;34m.\u001b[0m\u001b[0mread\u001b[0m\u001b[0;34m(\u001b[0m\u001b[0;34m)\u001b[0m\u001b[0;34m)\u001b[0m\u001b[0;34m\u001b[0m\u001b[0;34m\u001b[0m\u001b[0m\n\u001b[0m\u001b[1;32m      2\u001b[0m \u001b[0mhans\u001b[0m\u001b[0;34m=\u001b[0m\u001b[0mhans\u001b[0m\u001b[0;34m.\u001b[0m\u001b[0mlower\u001b[0m\u001b[0;34m(\u001b[0m\u001b[0;34m)\u001b[0m\u001b[0;34m\u001b[0m\u001b[0;34m\u001b[0m\u001b[0m\n",
      "\u001b[0;31mFileNotFoundError\u001b[0m: [Errno 2] No such file or directory: 'Hans_3'"
     ]
    }
   ],
   "source": [
    "hans=(open('Hans_3').read())\n",
    "hans=hans.lower()"
   ]
  },
  {
   "cell_type": "code",
   "execution_count": 17,
   "metadata": {},
   "outputs": [
    {
     "data": {
      "text/plain": [
       "22752"
      ]
     },
     "execution_count": 17,
     "metadata": {},
     "output_type": "execute_result"
    }
   ],
   "source": [
    "hans.count(' ')#len(hans_characters)"
   ]
  },
  {
   "cell_type": "code",
   "execution_count": 18,
   "metadata": {},
   "outputs": [
    {
     "data": {
      "text/plain": [
       "43"
      ]
     },
     "execution_count": 18,
     "metadata": {},
     "output_type": "execute_result"
    }
   ],
   "source": [
    "len(hans_characters)"
   ]
  },
  {
   "cell_type": "code",
   "execution_count": 3,
   "metadata": {},
   "outputs": [],
   "source": [
    "# remove double spaces and line endings to avoid counting\n",
    "hans = hans.replace(\"\\n\", \" \")\n",
    "hans = hans.replace(\"  \", \" \")\n",
    "hans = hans.replace(\"[illustration: _\", \"\")"
   ]
  },
  {
   "cell_type": "code",
   "execution_count": 4,
   "metadata": {},
   "outputs": [],
   "source": [
    "# sort the unique characters that appear\n",
    "hans_characters = sorted(list(set(hans)))\n",
    "# map the unique characters to a dictionary with char as key and len of set list as value\n",
    "hans_n_to_char = {n:char for n, char in enumerate(hans_characters)}\n",
    "# map the unique characters to a dictionary with len of set list as key and char as value\n",
    "hans_char_to_n = {char:n for n, char in enumerate(hans_characters)}"
   ]
  },
  {
   "cell_type": "code",
   "execution_count": 5,
   "metadata": {},
   "outputs": [],
   "source": [
    "# create lists of characters\n",
    "hans_X = []\n",
    "hans_Y = []\n",
    "length = len(hans)\n",
    "seq_length = 100\n",
    "for i in range(0, length-seq_length, 1):\n",
    "    sequence = hans[i:i + seq_length]\n",
    "    label = hans[i + seq_length]\n",
    "    hans_X.append([hans_char_to_n[char] for char in sequence])\n",
    "    hans_Y.append(hans_char_to_n[label])"
   ]
  },
  {
   "cell_type": "code",
   "execution_count": 6,
   "metadata": {},
   "outputs": [],
   "source": [
    "hans_X_modified = np.reshape(hans_X, (len(hans_X), seq_length, 1))\n",
    "hans_X_modified = hans_X_modified / float(len(hans_characters))\n",
    "hans_Y_modified = np_utils.to_categorical(hans_Y)"
   ]
  },
  {
   "cell_type": "code",
   "execution_count": 7,
   "metadata": {},
   "outputs": [],
   "source": [
    "hans_model = Sequential()\n",
    "hans_model.add(LSTM(700, input_shape=(hans_X_modified.shape[1], hans_X_modified.shape[2]), \n",
    "               return_sequences=True))\n",
    "hans_model.add(Dropout(0.2))\n",
    "hans_model.add(LSTM(700))\n",
    "hans_model.add(Dropout(0.2))\n",
    "hans_model.add(Dense(hans_Y_modified.shape[1], activation='softmax'))\n",
    "hans_model.compile(loss='categorical_crossentropy', optimizer='adam')"
   ]
  },
  {
   "cell_type": "code",
   "execution_count": 8,
   "metadata": {},
   "outputs": [],
   "source": [
    "# load the network weights\n",
    "filename = \"hans-weights-07-1.3190.hdf5\"\n",
    "hans_model.load_weights(filename)\n",
    "hans_model.compile(loss='categorical_crossentropy', optimizer='adam')"
   ]
  },
  {
   "cell_type": "code",
   "execution_count": null,
   "metadata": {},
   "outputs": [],
   "source": [
    "n_vocab = len(hans_characters)\n",
    "\n",
    "start = np.random.randint(0, len(hans_X)-1)\n",
    "pattern = hans_X[start]\n",
    "print(\"Seed:\")\n",
    "print(\"\\\"\", ''.join([hans_n_to_char[value] for value in pattern]), \"\\\"\")\n",
    "# generate characters\n",
    "for i in range(200):\n",
    "    x = np.reshape(pattern, (1, len(pattern), 1))\n",
    "    x = x / float(n_vocab)\n",
    "    prediction = hans_model.predict(x, verbose=0)\n",
    "    index = np.argmax(prediction)\n",
    "    result = hans_n_to_char[index]\n",
    "    seq_in = [hans_n_to_char[value] for value in pattern]\n",
    "    sys.stdout.write(result)\n",
    "    pattern.append(index)\n",
    "    pattern = pattern[1:len(pattern)]\n",
    "print(\"\\nDone.\")"
   ]
  },
  {
   "cell_type": "code",
   "execution_count": null,
   "metadata": {},
   "outputs": [],
   "source": []
  },
  {
   "cell_type": "code",
   "execution_count": null,
   "metadata": {},
   "outputs": [],
   "source": []
  },
  {
   "cell_type": "code",
   "execution_count": 18,
   "metadata": {},
   "outputs": [],
   "source": [
    "hans_model.save('simple_hans.hd5')\n",
    "pickle.dump(hans_n_to_char, open(\"hans_n_to_char.pkl\", \"wb\"))\n",
    "pickle.dump(hans_char_to_n, open(\"hans_char_to_n.pkl\", \"wb\"))\n",
    "pickle.dump(hans_X, open(\"hans_X.pkl\", \"wb\"))"
   ]
  },
  {
   "cell_type": "code",
   "execution_count": null,
   "metadata": {},
   "outputs": [],
   "source": []
  }
 ],
 "metadata": {
  "kernelspec": {
   "display_name": "Python 3",
   "language": "python",
   "name": "python3"
  },
  "language_info": {
   "codemirror_mode": {
    "name": "ipython",
    "version": 3
   },
   "file_extension": ".py",
   "mimetype": "text/x-python",
   "name": "python",
   "nbconvert_exporter": "python",
   "pygments_lexer": "ipython3",
   "version": "3.6.8"
  }
 },
 "nbformat": 4,
 "nbformat_minor": 2
}
